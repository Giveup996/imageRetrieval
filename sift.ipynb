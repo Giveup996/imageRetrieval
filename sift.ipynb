{
 "cells": [
  {
   "cell_type": "code",
   "execution_count": 1,
   "metadata": {
    "collapsed": true
   },
   "outputs": [],
   "source": [
    "import cv2\n",
    "import numpy"
   ]
  },
  {
   "cell_type": "code",
   "execution_count": 21,
   "metadata": {
    "collapsed": true
   },
   "outputs": [],
   "source": [
    "img=cv2.imread('cat.jpg',cv2.IMREAD_COLOR)\n",
    "gray=cv2.cvtColor(img,cv2.COLOR_RGB2GRAY)"
   ]
  },
  {
   "cell_type": "code",
   "execution_count": 22,
   "metadata": {},
   "outputs": [
    {
     "data": {
      "text/plain": [
       "-1"
      ]
     },
     "execution_count": 22,
     "metadata": {},
     "output_type": "execute_result"
    }
   ],
   "source": [
    "cv2.imshow('cat',img)\n",
    "cv2.waitKey()"
   ]
  },
  {
   "cell_type": "code",
   "execution_count": 23,
   "metadata": {},
   "outputs": [
    {
     "data": {
      "text/plain": [
       "True"
      ]
     },
     "execution_count": 23,
     "metadata": {},
     "output_type": "execute_result"
    }
   ],
   "source": [
    "sift = cv2.xfeatures2d.SIFT_create()\n",
    "kp = sift.detect(gray,None)\n",
    "img_kp=cv2.drawKeypoints(gray,kp,img)\n",
    "cv2.imwrite('sift_keypoints.jpg',img_kp)\n"
   ]
  },
  {
   "cell_type": "code",
   "execution_count": 19,
   "metadata": {},
   "outputs": [
    {
     "data": {
      "text/plain": [
       "cv2.KeyPoint"
      ]
     },
     "execution_count": 19,
     "metadata": {},
     "output_type": "execute_result"
    }
   ],
   "source": [
    "type(kp[0])"
   ]
  },
  {
   "cell_type": "code",
   "execution_count": 26,
   "metadata": {},
   "outputs": [
    {
     "data": {
      "text/plain": [
       "True"
      ]
     },
     "execution_count": 26,
     "metadata": {},
     "output_type": "execute_result"
    }
   ],
   "source": [
    "img=cv2.drawKeypoints(gray,kp,img,flags=cv2.DRAW_MATCHES_FLAGS_DRAW_RICH_KEYPOINTS)\n",
    "cv2.imwrite('sift_keypoints.jpg',img)"
   ]
  },
  {
   "cell_type": "code",
   "execution_count": 27,
   "metadata": {},
   "outputs": [
    {
     "data": {
      "text/plain": [
       "-1"
      ]
     },
     "execution_count": 27,
     "metadata": {},
     "output_type": "execute_result"
    }
   ],
   "source": [
    "kp_img=cv2.imread('sift_keypoints.jpg',cv2.IMREAD_COLOR)\n",
    "cv2.imshow('kp',kp_img)\n",
    "cv2.waitKey()"
   ]
  },
  {
   "cell_type": "code",
   "execution_count": 28,
   "metadata": {
    "collapsed": true
   },
   "outputs": [],
   "source": [
    "kp, des = sift.detectAndCompute(gray,None)"
   ]
  },
  {
   "cell_type": "code",
   "execution_count": 35,
   "metadata": {},
   "outputs": [
    {
     "data": {
      "text/plain": [
       "array([  81.,  148.,    2.,    0.,    0.,    0.,    0.,    0.,  183.,\n",
       "        183.,    0.,    1.,    1.,    0.,    0.,    0.,   70.,   33.,\n",
       "          1.,    9.,   30.,    0.,    0.,    0.,   12.,    9.,    1.,\n",
       "          7.,   20.,    4.,    0.,    0.,  144.,   43.,    2.,    0.,\n",
       "          0.,    0.,    0.,   10.,  183.,   76.,    0.,    0.,    1.,\n",
       "          0.,    0.,    4.,  162.,   18.,    2.,   10.,   45.,    0.,\n",
       "          0.,    0.,    6.,   23.,    4.,   10.,   26.,    2.,    0.,\n",
       "          0.,   57.,    0.,    0.,    0.,    0.,    0.,    0.,   16.,\n",
       "        183.,    2.,    0.,    0.,    2.,    0.,    0.,   65.,  126.,\n",
       "          5.,    3.,   16.,   69.,    1.,    1.,   18.,    3.,   39.,\n",
       "          8.,    7.,   17.,    2.,    0.,    0.,    0.,    0.,    0.,\n",
       "          0.,    0.,    0.,    0.,    0.,   19.,    0.,    0.,    0.,\n",
       "          1.,    0.,    0.,   12.,    9.,    1.,    1.,    7.,   34.,\n",
       "          1.,    0.,    7.,    2.,   18.,    7.,    4.,    8.,    0.,\n",
       "          0.,    0.], dtype=float32)"
      ]
     },
     "execution_count": 35,
     "metadata": {},
     "output_type": "execute_result"
    }
   ],
   "source": [
    "des[0]"
   ]
  }
 ],
 "metadata": {
  "kernelspec": {
   "display_name": "Python 3",
   "language": "python",
   "name": "python3"
  },
  "language_info": {
   "codemirror_mode": {
    "name": "ipython",
    "version": 3
   },
   "file_extension": ".py",
   "mimetype": "text/x-python",
   "name": "python",
   "nbconvert_exporter": "python",
   "pygments_lexer": "ipython3",
   "version": "3.6.1"
  }
 },
 "nbformat": 4,
 "nbformat_minor": 2
}
